{
  "nbformat": 4,
  "nbformat_minor": 0,
  "metadata": {
    "colab": {
      "name": "HealthInsurance.ipynb",
      "provenance": [],
      "collapsed_sections": []
    },
    "kernelspec": {
      "name": "python3",
      "display_name": "Python 3"
    }
  },
  "cells": [
    {
      "cell_type": "code",
      "metadata": {
        "id": "mpxmS6li2EE2"
      },
      "source": [
        "#Imoorting required libraries\r\n",
        "import pandas as pd \r\n",
        "import numpy as np \r\n",
        "import matplotlib.pyplot as plt\r\n",
        "import seaborn as sns\r\n",
        "\r\n",
        "from sklearn.linear_model import LogisticRegression\r\n",
        "from sklearn.tree import DecisionTreeClassifier\r\n",
        "from sklearn.ensemble import RandomForestClassifier\r\n",
        "from xgboost.sklearn import XGBClassifier\r\n",
        "from sklearn.metrics import accuracy_score, f1_score, precision_score, recall_score,auc\r\n",
        "from sklearn.metrics import confusion_matrix, roc_auc_score, roc_curve, classification_report, precision_recall_curve\r\n",
        "from sklearn.model_selection import train_test_split, cross_val_score, StratifiedKFold, GridSearchCV, RandomizedSearchCV\r\n",
        "\r\n",
        "from collections import Counter"
      ],
      "execution_count": 45,
      "outputs": []
    },
    {
      "cell_type": "markdown",
      "metadata": {
        "id": "UThyBsEPAE68"
      },
      "source": [
        "Copying Train & testfiles\r\n"
      ]
    },
    {
      "cell_type": "code",
      "metadata": {
        "id": "phCmBGqU2FrF"
      },
      "source": [
        "train = pd.read_csv(\"train_Df64byy.csv\")\r\n",
        "test = pd.read_csv(\"test_YCcRUnU.csv\")\r\n",
        "\r\n",
        "train_original = train.copy()\r\n",
        "test_original = test.copy()"
      ],
      "execution_count": 46,
      "outputs": []
    },
    {
      "cell_type": "markdown",
      "metadata": {
        "id": "sanDP6K8AbQV"
      },
      "source": [
        "Check for Imbalance data\r\n"
      ]
    },
    {
      "cell_type": "code",
      "metadata": {
        "colab": {
          "base_uri": "https://localhost:8080/"
        },
        "id": "r6z9WbzL2HOU",
        "outputId": "4919ce35-7737-48e2-e59b-680ec4c24be0"
      },
      "source": [
        "train['Response'].value_counts()"
      ],
      "execution_count": 47,
      "outputs": [
        {
          "output_type": "execute_result",
          "data": {
            "text/plain": [
              "0    38673\n",
              "1    12209\n",
              "Name: Response, dtype: int64"
            ]
          },
          "metadata": {
            "tags": []
          },
          "execution_count": 47
        }
      ]
    },
    {
      "cell_type": "code",
      "metadata": {
        "colab": {
          "base_uri": "https://localhost:8080/",
          "height": 1000
        },
        "id": "1MmovLE2_rUJ",
        "outputId": "80a6fe6f-ac9b-4637-96ec-2d96a6199c63"
      },
      "source": [
        "#Visualising the Independent variables on the target\r\n",
        "#As this might give the idea as in which are less important in impacting the target\r\n",
        "\r\n",
        "\r\n",
        "City_code = pd.crosstab(train['City_Code'],train['Response'])\r\n",
        "City_code.div(City_code.sum(1).astype(float),axis = 0).plot(kind = \"bar\",stacked = True,figsize = (12,8))\r\n",
        "\r\n",
        "\r\n",
        "Accomodation_Type = pd.crosstab(train['Accomodation_Type'],train['Response'])\r\n",
        "Accomodation_Type.div(Accomodation_Type.sum(1).astype(float),axis = 0).plot(kind = \"bar\",stacked = True,figsize = (4,4))\r\n",
        "\r\n",
        "Reco_Insurance_Type = pd.crosstab(train['Reco_Insurance_Type'],train['Response'])\r\n",
        "Reco_Insurance_Type.div(Reco_Insurance_Type.sum(1).astype(float),axis = 0).plot(kind = \"bar\",stacked = True,figsize = (4,4))\r\n",
        "\r\n",
        "Is_Spouse = pd.crosstab(train['Is_Spouse'],train['Response'])\r\n",
        "Is_Spouse.div(Is_Spouse.sum(1).astype(float),axis = 0).plot(kind = \"bar\",stacked = True,figsize = (4,4))\r\n",
        "\r\n",
        "Health_Indicator = pd.crosstab(train['Health Indicator'],train['Response'])\r\n",
        "Health_Indicator.div(Health_Indicator.sum(1).astype(float),axis = 0).plot(kind = \"bar\",stacked = True,figsize = (4,4))\r\n",
        "\r\n",
        "Reco_Policy_Cat = pd.crosstab(train['Reco_Policy_Cat'],train['Response'])\r\n",
        "Reco_Policy_Cat.div(Reco_Policy_Cat.sum(1).astype(float),axis = 0).plot(kind = \"bar\",stacked = True,figsize = (4,4))\r\n",
        "\r\n",
        "Holding_Policy_Duration = pd.crosstab(train['Holding_Policy_Duration'],train['Response'])\r\n",
        "Holding_Policy_Duration.div(Holding_Policy_Duration.sum(1).astype(float),axis = 0).plot(kind = \"bar\",stacked = True,figsize = (4,4))\r\n",
        "\r\n",
        "Holding_Policy_Type = pd.crosstab(train['Holding_Policy_Type'],train['Response'])\r\n",
        "Holding_Policy_Type.div(Holding_Policy_Type.sum(1).astype(float),axis = 0).plot(kind = \"bar\",stacked = True,figsize = (4,4))\r\n"
      ],
      "execution_count": 48,
      "outputs": [
        {
          "output_type": "execute_result",
          "data": {
            "text/plain": [
              "<matplotlib.axes._subplots.AxesSubplot at 0x7fedd0fac290>"
            ]
          },
          "metadata": {
            "tags": []
          },
          "execution_count": 48
        },
        {
          "output_type": "display_data",
          "data": {
            "image/png": "[encoded data removed]",
            "text/plain": [
              "<Figure size 864x576 with 1 Axes>"
            ]
          },
          "metadata": {
            "tags": [],
            "needs_background": "light"
          }
        },
        {
          "output_type": "display_data",
          "data": {
            "image/png": "[encoded data removed]",
            "text/plain": [
              "<Figure size 288x288 with 1 Axes>"
            ]
          },
          "metadata": {
            "tags": [],
            "needs_background": "light"
          }
        },
        {
          "output_type": "display_data",
          "data": {
            "image/png": "[encoded data removed]",
            "text/plain": [
              "<Figure size 288x288 with 1 Axes>"
            ]
          },
          "metadata": {
            "tags": [],
            "needs_background": "light"
          }
        },
        {
          "output_type": "display_data",
          "data": {
            "image/png": "[encoded data removed]",
            "text/plain": [
              "<Figure size 288x288 with 1 Axes>"
            ]
          },
          "metadata": {
            "tags": [],
            "needs_background": "light"
          }
        },
        {
          "output_type": "display_data",
          "data": {
            "image/png": "[encoded data removed]",
            "text/plain": [
              "<Figure size 288x288 with 1 Axes>"
            ]
          },
          "metadata": {
            "tags": [],
            "needs_background": "light"
          }
        },
        {
          "output_type": "display_data",
          "data": {
            "image/png": "[encoded data removed]",
            "text/plain": [
              "<Figure size 288x288 with 1 Axes>"
            ]
          },
          "metadata": {
            "tags": [],
            "needs_background": "light"
          }
        },
        {
          "output_type": "display_data",
          "data": {
            "image/png": "[encoded data removed]",
            "text/plain": [
              "<Figure size 288x288 with 1 Axes>"
            ]
          },
          "metadata": {
            "tags": [],
            "needs_background": "light"
          }
        },
        {
          "output_type": "display_data",
          "data": {
            "image/png": "[encoded data removed]",
            "text/plain": [
              "<Figure size 288x288 with 1 Axes>"
            ]
          },
          "metadata": {
            "tags": [],
            "needs_background": "light"
          }
        }
      ]
    },
    {
      "cell_type": "markdown",
      "metadata": {
        "id": "G3YlFR7JA2c6"
      },
      "source": [
        "Age factor impact on response being yes or no"
      ]
    },
    {
      "cell_type": "code",
      "metadata": {
        "colab": {
          "base_uri": "https://localhost:8080/",
          "height": 293
        },
        "id": "9Elp--K4_1VL",
        "outputId": "3a65b6af-5cbb-4d26-ab22-f9c475af8463"
      },
      "source": [
        "train.groupby('Response')['Upper_Age'].mean().plot.bar()"
      ],
      "execution_count": 49,
      "outputs": [
        {
          "output_type": "execute_result",
          "data": {
            "text/plain": [
              "<matplotlib.axes._subplots.AxesSubplot at 0x7fedd26d6f10>"
            ]
          },
          "metadata": {
            "tags": []
          },
          "execution_count": 49
        },
        {
          "output_type": "display_data",
          "data": {
            "image/png": "[encoded data removed]",
            "text/plain": [
              "<Figure size 432x288 with 1 Axes>"
            ]
          },
          "metadata": {
            "tags": [],
            "needs_background": "light"
          }
        }
      ]
    },
    {
      "cell_type": "code",
      "metadata": {
        "colab": {
          "base_uri": "https://localhost:8080/",
          "height": 293
        },
        "id": "BH-j-HO__3Is",
        "outputId": "14892935-3f3a-45c6-ec55-75264f8dd19a"
      },
      "source": [
        "train.groupby('Response')['Lower_Age'].mean().plot.bar()"
      ],
      "execution_count": 50,
      "outputs": [
        {
          "output_type": "execute_result",
          "data": {
            "text/plain": [
              "<matplotlib.axes._subplots.AxesSubplot at 0x7fedd13b3b90>"
            ]
          },
          "metadata": {
            "tags": []
          },
          "execution_count": 50
        },
        {
          "output_type": "display_data",
          "data": {
            "image/png": "[encoded data removed]",
            "text/plain": [
              "<Figure size 432x288 with 1 Axes>"
            ]
          },
          "metadata": {
            "tags": [],
            "needs_background": "light"
          }
        }
      ]
    },
    {
      "cell_type": "code",
      "metadata": {
        "colab": {
          "base_uri": "https://localhost:8080/",
          "height": 326
        },
        "id": "Xg7dCh8qBIwb",
        "outputId": "aee817c4-cc03-4d91-8353-1c7b71860576"
      },
      "source": [
        "#Creating bins for age factor by considering upper age\r\n",
        "bins = [0,20,50,80]\r\n",
        "group = ['Lower age','Middle Age','Older age']\r\n",
        "train['Age_Factor'] = pd.cut(train['Upper_Age'],bins,labels = group)\r\n",
        "test['Age_Factor'] = pd.cut(test['Upper_Age'],bins,labels = group)\r\n",
        "Age_Factor = pd.crosstab(train['Age_Factor'],train['Response'])\r\n",
        "Age_Factor.div(Age_Factor.sum(1).astype(float),axis = 0).plot(kind=\"bar\",stacked = True)\r\n",
        "plt.xlabel('Age_Factor')\r\n",
        "P = plt.ylabel('Percentage')"
      ],
      "execution_count": 51,
      "outputs": [
        {
          "output_type": "display_data",
          "data": {
            "image/png": "[encoded data removed]",
            "text/plain": [
              "<Figure size 432x288 with 1 Axes>"
            ]
          },
          "metadata": {
            "tags": [],
            "needs_background": "light"
          }
        }
      ]
    },
    {
      "cell_type": "markdown",
      "metadata": {
        "id": "Z6jMXB1EA-nb"
      },
      "source": [
        "Dropping variables which have not impact the response even slightly"
      ]
    },
    {
      "cell_type": "code",
      "metadata": {
        "id": "KVdnhVBW2Lwz"
      },
      "source": [
        "train = train.drop(['Is_Spouse','ID','Lower_Age','Upper_Age','Region_Code','Age_Factor','Holding_Policy_Type','Accomodation_Type','Reco_Insurance_Type'],axis = 1)\r\n",
        "test = test.drop(['Is_Spouse','ID','Lower_Age','Upper_Age','Region_Code','Age_Factor','Holding_Policy_Type','Accomodation_Type','Reco_Insurance_Type'],axis = 1)"
      ],
      "execution_count": 52,
      "outputs": []
    },
    {
      "cell_type": "code",
      "metadata": {
        "colab": {
          "base_uri": "https://localhost:8080/"
        },
        "id": "xVUJnUll2PP-",
        "outputId": "6cf101ce-864b-469d-b665-9f9000720f2f"
      },
      "source": [
        "train.isnull().sum()"
      ],
      "execution_count": 53,
      "outputs": [
        {
          "output_type": "execute_result",
          "data": {
            "text/plain": [
              "City_Code                      0\n",
              "Health Indicator           11691\n",
              "Holding_Policy_Duration    20251\n",
              "Reco_Policy_Cat                0\n",
              "Reco_Policy_Premium            0\n",
              "Response                       0\n",
              "dtype: int64"
            ]
          },
          "metadata": {
            "tags": []
          },
          "execution_count": 53
        }
      ]
    },
    {
      "cell_type": "code",
      "metadata": {
        "colab": {
          "base_uri": "https://localhost:8080/"
        },
        "id": "4Mk0q6Im2Q7c",
        "outputId": "e931ed5b-7aff-4c5d-b917-1536874355f7"
      },
      "source": [
        "test.isnull().sum()"
      ],
      "execution_count": 54,
      "outputs": [
        {
          "output_type": "execute_result",
          "data": {
            "text/plain": [
              "City_Code                     0\n",
              "Health Indicator           5027\n",
              "Holding_Policy_Duration    8603\n",
              "Reco_Policy_Cat               0\n",
              "Reco_Policy_Premium           0\n",
              "dtype: int64"
            ]
          },
          "metadata": {
            "tags": []
          },
          "execution_count": 54
        }
      ]
    },
    {
      "cell_type": "code",
      "metadata": {
        "id": "sJNEojPu2NZ0"
      },
      "source": [
        "#Filling missing values\r\n",
        "train['Health Indicator'].fillna(train['Health Indicator'].mode()[0],inplace = True)\r\n",
        "train['Holding_Policy_Duration'].fillna(train['Holding_Policy_Duration'].mode()[0],inplace = True)\r\n",
        "#train['Holding_Policy_Type'].fillna(train['Holding_Policy_Type'].mode()[0],inplace = True)\r\n",
        "\r\n",
        "test['Health Indicator'].fillna(test['Health Indicator'].mode()[0],inplace = True)\r\n",
        "test['Holding_Policy_Duration'].fillna(test['Holding_Policy_Duration'].mode()[0],inplace = True)\r\n",
        "#test['Holding_Policy_Type'].fillna(test['Holding_Policy_Type'].mode()[0],inplace = True)"
      ],
      "execution_count": 55,
      "outputs": []
    },
    {
      "cell_type": "markdown",
      "metadata": {
        "id": "I9VqxwYLDhLc"
      },
      "source": [
        "PErforming Label encoding"
      ]
    },
    {
      "cell_type": "code",
      "metadata": {
        "id": "hLQUhmGv2Shf"
      },
      "source": [
        "from  sklearn import preprocessing\r\n",
        "from sklearn.preprocessing import OneHotEncoder \r\n",
        "from sklearn.compose import ColumnTransformer \r\n",
        "\r\n",
        "label_encoder = preprocessing.LabelEncoder()\r\n",
        "\r\n",
        "train['Health Indicator']= label_encoder.fit_transform(train['Health Indicator'])\r\n",
        "test['Health Indicator']= label_encoder.fit_transform(test['Health Indicator']) \r\n",
        "\r\n",
        "#train['Accomodation_Type']= label_encoder.fit_transform(train['Accomodation_Type'])\r\n",
        "#test['Accomodation_Type']= label_encoder.fit_transform(test['Accomodation_Type'])\r\n",
        "\r\n",
        "\r\n",
        "#train['Reco_Insurance_Type']= label_encoder.fit_transform(train['Reco_Insurance_Type'])\r\n",
        "#test['Reco_Insurance_Type']= label_encoder.fit_transform(test['Reco_Insurance_Type'])\r\n",
        "\r\n",
        "train['City_Code']= label_encoder.fit_transform(train['City_Code'])\r\n",
        "test['City_Code']= label_encoder.fit_transform(test['City_Code']) \r\n"
      ],
      "execution_count": 56,
      "outputs": []
    },
    {
      "cell_type": "code",
      "metadata": {
        "id": "I0Z6jPvd2UQ_"
      },
      "source": [
        "train['Holding_Policy_Duration'].replace('14+',14,inplace=True)\r\n",
        "test['Holding_Policy_Duration'].replace('14+',14,inplace = True)"
      ],
      "execution_count": 57,
      "outputs": []
    },
    {
      "cell_type": "code",
      "metadata": {
        "id": "FAz2z_OA2VkO"
      },
      "source": [
        "train['Holding_Policy_Duration'] = pd.to_numeric(train['Holding_Policy_Duration'])\r\n",
        "test['Holding_Policy_Duration'] = pd.to_numeric(train['Holding_Policy_Duration'])"
      ],
      "execution_count": 58,
      "outputs": []
    },
    {
      "cell_type": "markdown",
      "metadata": {
        "id": "_tcxExkJBq9G"
      },
      "source": [
        "Handling Imabalnce data set using sampling method"
      ]
    },
    {
      "cell_type": "code",
      "metadata": {
        "colab": {
          "base_uri": "https://localhost:8080/"
        },
        "id": "NPyXybKY2YA9",
        "outputId": "1f6fe529-d76f-46c5-f4e0-c263f5edb5ed"
      },
      "source": [
        "from sklearn.utils import resample\r\n",
        "from sklearn.metrics import confusion_matrix,f1_score\r\n",
        "no_response = train[train.Response==0]\r\n",
        "response = train[train.Response == 1]\r\n",
        "\r\n",
        "Response_unsampled = resample(response,\r\n",
        "                          replace=True, # sample with replacement\r\n",
        "                          n_samples=len(no_response), # match number in majority class\r\n",
        "                          random_state=27) # reproducible results\r\n",
        "unsampled = pd.concat([no_response,Response_unsampled])\r\n",
        "unsampled.Response.value_counts()"
      ],
      "execution_count": 59,
      "outputs": [
        {
          "output_type": "execute_result",
          "data": {
            "text/plain": [
              "1    38673\n",
              "0    38673\n",
              "Name: Response, dtype: int64"
            ]
          },
          "metadata": {
            "tags": []
          },
          "execution_count": 59
        }
      ]
    },
    {
      "cell_type": "code",
      "metadata": {
        "id": "KlkcbLG02Zn1"
      },
      "source": [
        "X = unsampled.drop(['Response'],axis = 1)\r\n",
        "y = unsampled.Response\r\n",
        "x_train,x_cv,y_train,y_cv=train_test_split(X, y, train_size=0.8, stratify = y, random_state=100)"
      ],
      "execution_count": 60,
      "outputs": []
    },
    {
      "cell_type": "code",
      "metadata": {
        "colab": {
          "base_uri": "https://localhost:8080/",
          "height": 402
        },
        "id": "q7fkE1bRCJhs",
        "outputId": "ff263473-b01f-4b37-eb40-418e584bdb8c"
      },
      "source": [
        "x_train"
      ],
      "execution_count": 61,
      "outputs": [
        {
          "output_type": "execute_result",
          "data": {
            "text/html": [
              "<div>\n",
              "<style scoped>\n",
              "    .dataframe tbody tr th:only-of-type {\n",
              "        vertical-align: middle;\n",
              "    }\n",
              "\n",
              "    .dataframe tbody tr th {\n",
              "        vertical-align: top;\n",
              "    }\n",
              "\n",
              "    .dataframe thead th {\n",
              "        text-align: right;\n",
              "    }\n",
              "</style>\n",
              "<table border=\"1\" class=\"dataframe\">\n",
              "  <thead>\n",
              "    <tr style=\"text-align: right;\">\n",
              "      <th></th>\n",
              "      <th>City_Code</th>\n",
              "      <th>Health Indicator</th>\n",
              "      <th>Holding_Policy_Duration</th>\n",
              "      <th>Reco_Policy_Cat</th>\n",
              "      <th>Reco_Policy_Premium</th>\n",
              "    </tr>\n",
              "  </thead>\n",
              "  <tbody>\n",
              "    <tr>\n",
              "      <th>36204</th>\n",
              "      <td>22</td>\n",
              "      <td>0</td>\n",
              "      <td>1.0</td>\n",
              "      <td>16</td>\n",
              "      <td>11898.0</td>\n",
              "    </tr>\n",
              "    <tr>\n",
              "      <th>15309</th>\n",
              "      <td>3</td>\n",
              "      <td>2</td>\n",
              "      <td>1.0</td>\n",
              "      <td>2</td>\n",
              "      <td>4824.0</td>\n",
              "    </tr>\n",
              "    <tr>\n",
              "      <th>1544</th>\n",
              "      <td>30</td>\n",
              "      <td>0</td>\n",
              "      <td>1.0</td>\n",
              "      <td>15</td>\n",
              "      <td>4776.0</td>\n",
              "    </tr>\n",
              "    <tr>\n",
              "      <th>45895</th>\n",
              "      <td>34</td>\n",
              "      <td>3</td>\n",
              "      <td>7.0</td>\n",
              "      <td>12</td>\n",
              "      <td>8218.0</td>\n",
              "    </tr>\n",
              "    <tr>\n",
              "      <th>22994</th>\n",
              "      <td>30</td>\n",
              "      <td>0</td>\n",
              "      <td>1.0</td>\n",
              "      <td>18</td>\n",
              "      <td>5352.0</td>\n",
              "    </tr>\n",
              "    <tr>\n",
              "      <th>...</th>\n",
              "      <td>...</td>\n",
              "      <td>...</td>\n",
              "      <td>...</td>\n",
              "      <td>...</td>\n",
              "      <td>...</td>\n",
              "    </tr>\n",
              "    <tr>\n",
              "      <th>5143</th>\n",
              "      <td>32</td>\n",
              "      <td>0</td>\n",
              "      <td>7.0</td>\n",
              "      <td>1</td>\n",
              "      <td>17696.0</td>\n",
              "    </tr>\n",
              "    <tr>\n",
              "      <th>2675</th>\n",
              "      <td>30</td>\n",
              "      <td>0</td>\n",
              "      <td>1.0</td>\n",
              "      <td>16</td>\n",
              "      <td>15432.0</td>\n",
              "    </tr>\n",
              "    <tr>\n",
              "      <th>50227</th>\n",
              "      <td>4</td>\n",
              "      <td>0</td>\n",
              "      <td>12.0</td>\n",
              "      <td>16</td>\n",
              "      <td>14058.0</td>\n",
              "    </tr>\n",
              "    <tr>\n",
              "      <th>25421</th>\n",
              "      <td>11</td>\n",
              "      <td>1</td>\n",
              "      <td>1.0</td>\n",
              "      <td>22</td>\n",
              "      <td>21672.0</td>\n",
              "    </tr>\n",
              "    <tr>\n",
              "      <th>14564</th>\n",
              "      <td>10</td>\n",
              "      <td>1</td>\n",
              "      <td>1.0</td>\n",
              "      <td>2</td>\n",
              "      <td>8708.0</td>\n",
              "    </tr>\n",
              "  </tbody>\n",
              "</table>\n",
              "<p>61876 rows × 5 columns</p>\n",
              "</div>"
            ],
            "text/plain": [
              "       City_Code  Health Indicator  ...  Reco_Policy_Cat  Reco_Policy_Premium\n",
              "36204         22                 0  ...               16              11898.0\n",
              "15309          3                 2  ...                2               4824.0\n",
              "1544          30                 0  ...               15               4776.0\n",
              "45895         34                 3  ...               12               8218.0\n",
              "22994         30                 0  ...               18               5352.0\n",
              "...          ...               ...  ...              ...                  ...\n",
              "5143          32                 0  ...                1              17696.0\n",
              "2675          30                 0  ...               16              15432.0\n",
              "50227          4                 0  ...               16              14058.0\n",
              "25421         11                 1  ...               22              21672.0\n",
              "14564         10                 1  ...                2               8708.0\n",
              "\n",
              "[61876 rows x 5 columns]"
            ]
          },
          "metadata": {
            "tags": []
          },
          "execution_count": 61
        }
      ]
    },
    {
      "cell_type": "code",
      "metadata": {
        "id": "qmAV3rV-2bN9"
      },
      "source": [
        "from sklearn.preprocessing import StandardScaler\r\n",
        "Scaler_X = StandardScaler()\r\n",
        "x_train = Scaler_X.fit_transform(x_train)\r\n",
        "x_cv = Scaler_X.transform(x_cv)"
      ],
      "execution_count": 62,
      "outputs": []
    },
    {
      "cell_type": "code",
      "metadata": {
        "id": "aV4OaWOE2fHU"
      },
      "source": [
        "#Function to have all performance metrics for classification \r\n",
        "model = list()\r\n",
        "resample = list()\r\n",
        "precision = list()\r\n",
        "recall = list()\r\n",
        "F1score = list()\r\n",
        "AUCROC = list()\r\n",
        "\r\n",
        "def test_eval(clf_model, x_cv, y_cv, algo=None, sampling=None):\r\n",
        "    # Test set prediction\r\n",
        "    y_prob=clf_model.predict_proba(x_cv)\r\n",
        "    y_pred=clf_model.predict(x_cv)\r\n",
        "\r\n",
        "    print('Confusion Matrix')\r\n",
        "    print('='*60)\r\n",
        "    print(confusion_matrix(y_cv,y_pred),\"\\n\")\r\n",
        "    print('Classification Report')\r\n",
        "    print('='*60)\r\n",
        "    print(classification_report(y_cv,y_pred),\"\\n\")\r\n",
        "    print('AUC-ROC')\r\n",
        "    print('='*60)\r\n",
        "    print(roc_auc_score(y_cv, y_prob[:,1]))\r\n",
        "          \r\n",
        "    model.append(algo)\r\n",
        "    precision.append(precision_score(y_cv,y_pred))\r\n",
        "    recall.append(recall_score(y_cv,y_pred))\r\n",
        "    F1score.append(f1_score(y_cv,y_pred))\r\n",
        "    AUCROC.append(roc_auc_score(y_cv, y_prob[:,1]))\r\n",
        "    resample.append(sampling)\r\n",
        "\r\n",
        "    probs = clf_model.predict_proba(x_cv)\r\n",
        "    preds = y_prob[:,1]\r\n",
        "    fpr, tpr, threshold = roc_curve(y_cv, preds)\r\n",
        "    roc_auc = auc(fpr, tpr)\r\n",
        "\r\n",
        "# method I: plt\r\n",
        "    import matplotlib.pyplot as plt\r\n",
        "    plt.title('Receiver Operating Characteristic')\r\n",
        "    plt.plot(fpr, tpr, 'b', label = 'AUC = %0.2f' % roc_auc)\r\n",
        "    plt.legend(loc = 'lower right')\r\n",
        "    plt.plot([0, 1], [0, 1],'r--')\r\n",
        "    plt.xlim([0, 1])\r\n",
        "    plt.ylim([0, 1])\r\n",
        "    plt.ylabel('True Positive Rate')\r\n",
        "    plt.xlabel('False Positive Rate')\r\n",
        "    plt.show()"
      ],
      "execution_count": 63,
      "outputs": []
    },
    {
      "cell_type": "markdown",
      "metadata": {
        "id": "WMUVyO11CsSk"
      },
      "source": [
        "Model building - early stopping been found out using startified sampling method\r\n",
        "\r\n"
      ]
    },
    {
      "cell_type": "code",
      "metadata": {
        "colab": {
          "base_uri": "https://localhost:8080/"
        },
        "id": "iOtb4IIn2i9f",
        "outputId": "9987ef2c-b940-4263-a1a0-39a1004e1eab"
      },
      "source": [
        "xg_model = XGBClassifier(learning_rate=0.5,max_depth = 7, n_estimators=100,early_stopping_rounds = 99)\r\n",
        "xg_model.fit(x_train, y_train)"
      ],
      "execution_count": 43,
      "outputs": [
        {
          "output_type": "execute_result",
          "data": {
            "text/plain": [
              "XGBClassifier(base_score=0.5, booster='gbtree', colsample_bylevel=1,\n",
              "              colsample_bynode=1, colsample_bytree=1, early_stopping_rounds=99,\n",
              "              gamma=0, learning_rate=0.5, max_delta_step=0, max_depth=7,\n",
              "              min_child_weight=1, missing=None, n_estimators=100, n_jobs=1,\n",
              "              nthread=None, objective='binary:logistic', random_state=0,\n",
              "              reg_alpha=0, reg_lambda=1, scale_pos_weight=1, seed=None,\n",
              "              silent=None, subsample=1, verbosity=1)"
            ]
          },
          "metadata": {
            "tags": []
          },
          "execution_count": 43
        }
      ]
    },
    {
      "cell_type": "code",
      "metadata": {
        "colab": {
          "base_uri": "https://localhost:8080/",
          "height": 631
        },
        "id": "kAVWBg5i2mVC",
        "outputId": "0b8513f0-cfca-4433-8694-a27a155fa6f1"
      },
      "source": [
        "test_eval(xg_model, x_cv, y_cv, 'XGBoost', 'ACTUAL')"
      ],
      "execution_count": 64,
      "outputs": [
        {
          "output_type": "stream",
          "text": [
            "Confusion Matrix\n",
            "============================================================\n",
            "[[5146 2589]\n",
            " [1848 5887]] \n",
            "\n",
            "Classification Report\n",
            "============================================================\n",
            "              precision    recall  f1-score   support\n",
            "\n",
            "           0       0.74      0.67      0.70      7735\n",
            "           1       0.69      0.76      0.73      7735\n",
            "\n",
            "    accuracy                           0.71     15470\n",
            "   macro avg       0.72      0.71      0.71     15470\n",
            "weighted avg       0.72      0.71      0.71     15470\n",
            " \n",
            "\n",
            "AUC-ROC\n",
            "============================================================\n",
            "0.7875321461685963\n"
          ],
          "name": "stdout"
        },
        {
          "output_type": "display_data",
          "data": {
            "image/png": "[encoded data removed]",
            "text/plain": [
              "<Figure size 432x288 with 1 Axes>"
            ]
          },
          "metadata": {
            "tags": [],
            "needs_background": "light"
          }
        }
      ]
    },
    {
      "cell_type": "code",
      "metadata": {
        "id": "cb6q717V2tZ9"
      },
      "source": [
        "from sklearn.preprocessing import StandardScaler\r\n",
        "Scaler_X = StandardScaler()\r\n",
        "test = Scaler_X.fit_transform(test)\r\n",
        "pred_test = xg_model.predict(test)"
      ],
      "execution_count": 69,
      "outputs": []
    },
    {
      "cell_type": "code",
      "metadata": {
        "colab": {
          "base_uri": "https://localhost:8080/",
          "height": 639
        },
        "id": "YuAhWFN-2vDm",
        "outputId": "82f91171-661f-445f-ab2a-939e9b50b094"
      },
      "source": [
        "submission  = pd.read_csv(\"sample_submission_QrCyCoT.csv\")\r\n",
        "submission['Response'] = pred_test\r\n",
        "submission['ID'] = test_original['ID']\r\n",
        "submission.head(20)"
      ],
      "execution_count": 70,
      "outputs": [
        {
          "output_type": "execute_result",
          "data": {
            "text/html": [
              "<div>\n",
              "<style scoped>\n",
              "    .dataframe tbody tr th:only-of-type {\n",
              "        vertical-align: middle;\n",
              "    }\n",
              "\n",
              "    .dataframe tbody tr th {\n",
              "        vertical-align: top;\n",
              "    }\n",
              "\n",
              "    .dataframe thead th {\n",
              "        text-align: right;\n",
              "    }\n",
              "</style>\n",
              "<table border=\"1\" class=\"dataframe\">\n",
              "  <thead>\n",
              "    <tr style=\"text-align: right;\">\n",
              "      <th></th>\n",
              "      <th>ID</th>\n",
              "      <th>Response</th>\n",
              "    </tr>\n",
              "  </thead>\n",
              "  <tbody>\n",
              "    <tr>\n",
              "      <th>0</th>\n",
              "      <td>50883</td>\n",
              "      <td>0</td>\n",
              "    </tr>\n",
              "    <tr>\n",
              "      <th>1</th>\n",
              "      <td>50884</td>\n",
              "      <td>0</td>\n",
              "    </tr>\n",
              "    <tr>\n",
              "      <th>2</th>\n",
              "      <td>50885</td>\n",
              "      <td>1</td>\n",
              "    </tr>\n",
              "    <tr>\n",
              "      <th>3</th>\n",
              "      <td>50886</td>\n",
              "      <td>1</td>\n",
              "    </tr>\n",
              "    <tr>\n",
              "      <th>4</th>\n",
              "      <td>50887</td>\n",
              "      <td>0</td>\n",
              "    </tr>\n",
              "    <tr>\n",
              "      <th>5</th>\n",
              "      <td>50888</td>\n",
              "      <td>1</td>\n",
              "    </tr>\n",
              "    <tr>\n",
              "      <th>6</th>\n",
              "      <td>50889</td>\n",
              "      <td>0</td>\n",
              "    </tr>\n",
              "    <tr>\n",
              "      <th>7</th>\n",
              "      <td>50890</td>\n",
              "      <td>1</td>\n",
              "    </tr>\n",
              "    <tr>\n",
              "      <th>8</th>\n",
              "      <td>50891</td>\n",
              "      <td>1</td>\n",
              "    </tr>\n",
              "    <tr>\n",
              "      <th>9</th>\n",
              "      <td>50892</td>\n",
              "      <td>1</td>\n",
              "    </tr>\n",
              "    <tr>\n",
              "      <th>10</th>\n",
              "      <td>50893</td>\n",
              "      <td>0</td>\n",
              "    </tr>\n",
              "    <tr>\n",
              "      <th>11</th>\n",
              "      <td>50894</td>\n",
              "      <td>0</td>\n",
              "    </tr>\n",
              "    <tr>\n",
              "      <th>12</th>\n",
              "      <td>50895</td>\n",
              "      <td>0</td>\n",
              "    </tr>\n",
              "    <tr>\n",
              "      <th>13</th>\n",
              "      <td>50896</td>\n",
              "      <td>0</td>\n",
              "    </tr>\n",
              "    <tr>\n",
              "      <th>14</th>\n",
              "      <td>50897</td>\n",
              "      <td>0</td>\n",
              "    </tr>\n",
              "    <tr>\n",
              "      <th>15</th>\n",
              "      <td>50898</td>\n",
              "      <td>0</td>\n",
              "    </tr>\n",
              "    <tr>\n",
              "      <th>16</th>\n",
              "      <td>50899</td>\n",
              "      <td>0</td>\n",
              "    </tr>\n",
              "    <tr>\n",
              "      <th>17</th>\n",
              "      <td>50900</td>\n",
              "      <td>0</td>\n",
              "    </tr>\n",
              "    <tr>\n",
              "      <th>18</th>\n",
              "      <td>50901</td>\n",
              "      <td>1</td>\n",
              "    </tr>\n",
              "    <tr>\n",
              "      <th>19</th>\n",
              "      <td>50902</td>\n",
              "      <td>1</td>\n",
              "    </tr>\n",
              "  </tbody>\n",
              "</table>\n",
              "</div>"
            ],
            "text/plain": [
              "       ID  Response\n",
              "0   50883         0\n",
              "1   50884         0\n",
              "2   50885         1\n",
              "3   50886         1\n",
              "4   50887         0\n",
              "5   50888         1\n",
              "6   50889         0\n",
              "7   50890         1\n",
              "8   50891         1\n",
              "9   50892         1\n",
              "10  50893         0\n",
              "11  50894         0\n",
              "12  50895         0\n",
              "13  50896         0\n",
              "14  50897         0\n",
              "15  50898         0\n",
              "16  50899         0\n",
              "17  50900         0\n",
              "18  50901         1\n",
              "19  50902         1"
            ]
          },
          "metadata": {
            "tags": []
          },
          "execution_count": 70
        }
      ]
    },
    {
      "cell_type": "code",
      "metadata": {
        "id": "NdhLebg92zps"
      },
      "source": [
        "pd.DataFrame(submission,columns=['ID','Response']).to_csv(\"Health_Insurance.csv\",index=False)"
      ],
      "execution_count": 71,
      "outputs": []
    },
    {
      "cell_type": "code",
      "metadata": {
        "id": "jLlKpaqVEs85"
      },
      "source": [
        ""
      ],
      "execution_count": null,
      "outputs": []
    }
  ]
}